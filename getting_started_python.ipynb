{
  "nbformat": 4,
  "nbformat_minor": 0,
  "metadata": {
    "colab": {
      "provenance": [],
      "authorship_tag": "ABX9TyNEJ149/pxrK8T2MR0ISTHU",
      "include_colab_link": true
    },
    "kernelspec": {
      "name": "python3",
      "display_name": "Python 3"
    },
    "language_info": {
      "name": "python"
    }
  },
  "cells": [
    {
      "cell_type": "markdown",
      "metadata": {
        "id": "view-in-github",
        "colab_type": "text"
      },
      "source": [
        "<a href=\"https://colab.research.google.com/github/yogeshrajwade/python-for-devops-apr24/blob/main/getting_started_python.ipynb\" target=\"_parent\"><img src=\"https://colab.research.google.com/assets/colab-badge.svg\" alt=\"Open In Colab\"/></a>"
      ]
    },
    {
      "cell_type": "markdown",
      "source": [
        "## Introduction to python"
      ],
      "metadata": {
        "id": "ib68H6m8l663"
      }
    },
    {
      "cell_type": "code",
      "execution_count": 2,
      "metadata": {
        "id": "frKh0wk_MRhn",
        "colab": {
          "base_uri": "https://localhost:8080/"
        },
        "outputId": "5ed5e12b-7234-4ae8-8106-0a582a42ceb3"
      },
      "outputs": [
        {
          "output_type": "stream",
          "name": "stdout",
          "text": [
            "hello bob\n"
          ]
        }
      ],
      "source": [
        "name = \"bob\"\n",
        "print(f\"hello {name}\")"
      ]
    },
    {
      "cell_type": "markdown",
      "source": [
        "## Datastructure : list & Dict"
      ],
      "metadata": {
        "id": "ZpVTPaovmpUs"
      }
    },
    {
      "cell_type": "code",
      "source": [
        "fruite = [\"apple\",\"orange\",\"banana\"]\n",
        "type(fruite)"
      ],
      "metadata": {
        "colab": {
          "base_uri": "https://localhost:8080/"
        },
        "id": "zu3PYf8Bn6YM",
        "outputId": "55ee06e3-9b16-4fda-ca8a-ef88aad9b27e"
      },
      "execution_count": 4,
      "outputs": [
        {
          "output_type": "execute_result",
          "data": {
            "text/plain": [
              "list"
            ]
          },
          "metadata": {},
          "execution_count": 4
        }
      ]
    },
    {
      "cell_type": "code",
      "source": [
        "for my_fruite in fruite:\n",
        "  print(f\"my favorite fruite is {my_fruite}\")"
      ],
      "metadata": {
        "colab": {
          "base_uri": "https://localhost:8080/"
        },
        "id": "iMWOOZQToMOt",
        "outputId": "542d7690-ae8b-4261-c4d7-dca1fd9e0140"
      },
      "execution_count": 5,
      "outputs": [
        {
          "output_type": "stream",
          "name": "stdout",
          "text": [
            "my favorite fruite is apple\n",
            "my favorite fruite is orange\n",
            "my favorite fruite is banana\n"
          ]
        }
      ]
    },
    {
      "cell_type": "code",
      "source": [
        "meals = {\"breakfast\":\"coffee\",\"lunch\":\"salad\",\"dinner\":\"rice and beans\"}\n",
        "type(meals)"
      ],
      "metadata": {
        "colab": {
          "base_uri": "https://localhost:8080/"
        },
        "id": "7uZXgcq9oYMD",
        "outputId": "7a129764-9193-48ee-a1de-ed2666f39e4e"
      },
      "execution_count": 6,
      "outputs": [
        {
          "output_type": "execute_result",
          "data": {
            "text/plain": [
              "dict"
            ]
          },
          "metadata": {},
          "execution_count": 6
        }
      ]
    },
    {
      "cell_type": "code",
      "source": [
        "meals.keys()"
      ],
      "metadata": {
        "colab": {
          "base_uri": "https://localhost:8080/"
        },
        "id": "2X6TYIHPon9v",
        "outputId": "e910e120-0f0b-41d5-acc1-be02d1dc4d74"
      },
      "execution_count": 8,
      "outputs": [
        {
          "output_type": "execute_result",
          "data": {
            "text/plain": [
              "dict_keys(['breakfast', 'lunch', 'dinner'])"
            ]
          },
          "metadata": {},
          "execution_count": 8
        }
      ]
    },
    {
      "cell_type": "code",
      "source": [
        "meals.values()"
      ],
      "metadata": {
        "colab": {
          "base_uri": "https://localhost:8080/"
        },
        "id": "HQ3nSDkjotHg",
        "outputId": "4cd67db1-d799-4d97-f079-a29eefa70c8a"
      },
      "execution_count": 9,
      "outputs": [
        {
          "output_type": "execute_result",
          "data": {
            "text/plain": [
              "dict_values(['coffee', 'salad', 'rice and beans'])"
            ]
          },
          "metadata": {},
          "execution_count": 9
        }
      ]
    },
    {
      "cell_type": "code",
      "source": [
        "for my_meal, my_item in meals.items():\n",
        "  print(f\"my meal is {my_meal} when i like to eat {my_item}\")"
      ],
      "metadata": {
        "colab": {
          "base_uri": "https://localhost:8080/"
        },
        "id": "wAMsYy26oxen",
        "outputId": "c2a3847b-e3de-4f9d-9aec-cf93a20f8f90"
      },
      "execution_count": 11,
      "outputs": [
        {
          "output_type": "stream",
          "name": "stdout",
          "text": [
            "my meal is breakfast when i like to eat coffee\n",
            "my meal is lunch when i like to eat salad\n",
            "my meal is dinner when i like to eat rice and beans\n"
          ]
        }
      ]
    }
  ]
}